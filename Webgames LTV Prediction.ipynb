{
 "cells": [
  {
   "cell_type": "markdown",
   "metadata": {},
   "source": [
    "В ходе учебной практики в компании Webgames мной решалась задача предсказания LTV (lifetime value, пожизненной стоимости клиента) на основе предоставленных пользовательских данных приложения для Android. Расчёт данной метрики для пользователя позволяет предсказать, какую прибыль от него следует ожидать, и соответствующим способом модифицировать возможные предложения по скидкам для внутриигровых покупок. Использовались файлы со следующими данными:\n",
    "\n",
    "\n",
    "```practice_dau_and``` - ежедневные сообщения с устройства игрока\n",
    "* id - идентификатор игрока;\n",
    "* сountry - страна;\n",
    "* number_of_pgr - количество PGR-сообщений (их шлет устройство во время игры);\n",
    "* actdate - дата события.\n",
    "\n",
    "```practice_pact_and``` - агрегированные данные о деятельности игрока в этот день\n",
    "* id - идентификатор игрока;\n",
    "* actdate - дата события;\n",
    "* regdate - дата регистрации игрока;\n",
    "* clusters_ml_ended - сколько кластеров (кластеры состоят из квестов) основной сюжетной линии прошел игрок;\n",
    "* revenue - прибыль с игрока;\n",
    "* transactions - количество платежей;\n",
    "* quests_end - сколько побочных квестов прошел игрок;\n",
    "* m_quests_end - сколько квестов основной сюжетной линии прошел игрок;\n",
    "* crystals_value_spend - сколько кристаллов (в определенной нормировке) потратил игрок;\n",
    "* store_enters - сколько раз игрок зашел в магазин.\n",
    "\n",
    "Для оценки моделей использовались следующие метрики:\n",
    "* RMSE — Root Mean Squared Error\n",
    "* MAE — Mean Absolute Error\n",
    "\n",
    "Также качество предсказания справнивалось следующим образом: из всей выборки выделялась в тестовую информация по пользователям, зарегистрировавшимся с 13 по 19 февраля 2017 года (данные по игрокам, зарегистрировавшимся до этого, соответственно, являлись обучающей выборкой), затем все предсказания модели по каждому из пользователей и дней недели суммировались и сравнивались с действительными показателями."
   ]
  },
  {
   "cell_type": "code",
   "execution_count": 1,
   "metadata": {
    "collapsed": true
   },
   "outputs": [],
   "source": [
    "import pandas as pd\n",
    "import matplotlib.pyplot as plt\n",
    "import numpy as np\n",
    "import seaborn as sns\n",
    "from itertools import product\n",
    "from sklearn.preprocessing import LabelEncoder\n",
    "from datetime import timedelta\n",
    "import gc\n",
    "%matplotlib inline\n",
    "%config InlineBackend.figure_format = 'retina'\n",
    "plt.rcParams['figure.figsize'] = (14, 10)\n",
    "plt.rcParams['savefig.dpi']=400"
   ]
  },
  {
   "cell_type": "markdown",
   "metadata": {},
   "source": [
    "Для начала загрузим данные и удалим строки-дубликаты из таблицы ```practice_dau_and``` (из двух записей о пользователе в один и тот же день выбиралась запись с большим числом PGR-сообщений), а также удалили из таблицы ```practice_pact_and``` столбцы ```crystals_value_spend``` и ```store_enters```, так как они содержат только 0 и изменили дату регистрации для каждого пользователя на наиболее раннюю. Для уменьшения занимаемой памяти категориальные признаки ```country``` и ```id``` преобразовывались в целочисленные с помощью ```LabelEncoder```."
   ]
  },
  {
   "cell_type": "code",
   "execution_count": 2,
   "metadata": {
    "collapsed": true
   },
   "outputs": [],
   "source": [
    "dau=pd.read_csv(\"practice_dau_and.csv\",sep=\"|\",header=None,engine=\"c\",names=[\"id\",\"country\",\"number_of_pgr\",\"actdate\"],\n",
    "                dtype={\"number_of_pgr\":\"int16\"},\n",
    "                parse_dates=[3],na_filter=False).sort_values(by=[\"id\",\"actdate\",\"number_of_pgr\"]).drop_duplicates(\n",
    "    subset=[\"id\",\"actdate\"],keep=\"last\")\n",
    "pact=pd.read_csv(\"practice_pact_and.csv\",sep=\"|\",header=None,engine=\"c\",names=\n",
    "                [\"id\",\"actdate\",\"regdate\",\"clusters_ml_ended\",\"revenue\",\"transactions\",\"quests_end\",\"m_quests_end\",\n",
    "                \"crystals_value_spend\",\"store_enters\"],usecols=[\"id\",\"actdate\",\"regdate\",\"clusters_ml_ended\",\n",
    "                \"revenue\",\"transactions\",\"quests_end\",\"m_quests_end\"],dtype={\"clusters_ml_ended\":\"int8\",\n",
    "                \"revenue\":\"float32\",\"transactions\":\"int8\",\"quests_end\":\"int16\",\"m_quests_end\":\"int16\"},\n",
    "                 parse_dates=[1,2])\n",
    "pact=pact.drop(\"regdate\",axis=1).join(pact.groupby(\"id\").regdate.min().to_frame(),on=\"id\")\n",
    "pact=pd.merge(dau,pact,on=[\"id\",\"actdate\"],copy=False)\n",
    "lenc_cntr=LabelEncoder()\n",
    "lenc_id=LabelEncoder()\n",
    "pact.country=lenc_cntr.fit_transform(pact.country.values).astype(\"uint8\")\n",
    "pact.id=lenc_cntr.fit_transform(pact.id.values).astype(\"uint32\")\n",
    "del dau"
   ]
  },
  {
   "cell_type": "markdown",
   "metadata": {},
   "source": [
    "Всё преобразование данных для деления на обучающую и тестовую выборки в вид, в котором одному пользователю сопоставляется вектор признаков\n",
    "описано в функции split_data:\n",
    "    \n",
    "* ```pact``` — исходная таблица с объединёнными данными из двух источников, прошедшими предварительную очистку\n",
    "* ```days_obs``` — число дней, по наблюдению за которые проводились предсказания\n",
    "* ```days_pred``` — число дней, по наблюдению за которые рассчитывалась прибыль с пользователя\n",
    "* ```threshold``` — порог, по превышению которого прибыль (как за конкретный день, так и по окончанию периода наблюдений) становилась равной ```threshold```\n"
   ]
  },
  {
   "cell_type": "code",
   "execution_count": 3,
   "metadata": {
    "collapsed": true
   },
   "outputs": [],
   "source": [
    "def split_data(pact,days_obs,days_pred,testweek=False,threshold=1000):\n",
    "    y=pact[(pact.actdate-pact.regdate)<=timedelta(days=days_pred-1)].groupby(\"id\").revenue.sum().to_frame()\n",
    "    y.loc[y.revenue>threshold,\"revenue\"]=threshold\n",
    "    pact_train=pact[(pact.actdate-pact.regdate)<=timedelta(days=days_obs-1)].copy()\n",
    "    pact_train.loc[pact_train.revenue>threshold,\"revenue\"]=threshold\n",
    "    pact_train[\"day\"]=((pact_train[\"actdate\"]-pact_train[\"regdate\"])/np.timedelta64(1, 'D')).astype(\"int8\")\n",
    "    pact_train=pact_train.set_index([\"id\",\"day\"]).reindex(pd.MultiIndex.from_product([pact_train[\"id\"].unique(), range(days_obs)], names=[\"id\", \"day\"]))\n",
    "    pact_train.regdate.fillna(method=\"ffill\",inplace=True)\n",
    "    pact_train.country.fillna(method=\"ffill\",inplace=True)\n",
    "    pact_train.actdate=pd.to_timedelta(pact_train.index.get_level_values(level=1),\"d\")+pact_train.regdate\n",
    "    pact_train.fillna(0,inplace=True)\n",
    "    pact_train[\"regmonth\"]=pact_train.regdate.dt.month\n",
    "    pact_train[\"regday\"]=pact_train.regdate.dt.day\n",
    "    pact_train[\"actmonth\"]=pact_train.actdate.dt.month\n",
    "    pact_train[\"actday\"]=pact_train.actdate.dt.day\n",
    "    pact_train=pact_train.drop([\"regdate\",\"actdate\"],axis=1).unstack().drop(\n",
    "        [col for col in product([\"regmonth\",\"regday\",\"country\"],range(1,days_obs))],axis=1)\n",
    "    pact_train[[(\"country\",0)]+[col for col in product([\"transactions\",\"actmonth\",\"actday\"],range(days_obs))]]=pact_train[[\n",
    "    (\"country\",0)]+[col for col in product([\"transactions\",\"actmonth\",\"actday\"],range(days_obs))]].astype(\"uint8\")\n",
    "    pact_train[[col for col in product([\"clusters_ml_ended\"],range(days_obs))]]=pact_train[\n",
    "        [col for col in product([\"clusters_ml_ended\"],range(days_obs))]].astype(\"int8\")\n",
    "    pact_train[[col for col in product([\"revenue\"],range(days_obs))]]=pact_train[\n",
    "        [col for col in product([\"revenue\"],range(days_obs))]].astype(\"float32\")\n",
    "    pact_train[[col for col in product([\"number_of_pgr\",\"quests_end\",\"m_quests_end\"],range(days_obs))]]=pact_train[[\n",
    "        col for col in product([\"number_of_pgr\",\"quests_end\",\"m_quests_end\"],range(days_obs))]].astype(\"int16\")\n",
    "    pact_train.columns=[\"\".join(map(str,col)) for col in pact_train.columns]\n",
    "    pact_train.rename(columns={\"regmonth0\":\"regmonth\",\"regday0\":\"regday\",\"country0\":\"country\"},inplace=True)\n",
    "    pact_train.index.name=None\n",
    "    cleaned=pd.merge(pact_train,y,left_index=True,right_index=True)\n",
    "    if testweek:\n",
    "        train=cleaned[(cleaned.regmonth==1)|((cleaned.regmonth==2)&(cleaned.regday<13))]\n",
    "        test=[cleaned[(cleaned.regmonth==2)&(cleaned.regday==day)] for day in range(13,20)]\n",
    "        return train,test\n",
    "    else:\n",
    "        train=cleaned[(cleaned.regmonth<3)|((cleaned.regmonth==3)&(cleaned.regday<17))]\n",
    "        test=cleaned[~((cleaned.regmonth<3)|((cleaned.regmonth==3)&(cleaned.regday<17)))]\n",
    "        return train,test"
   ]
  },
  {
   "cell_type": "code",
   "execution_count": null,
   "metadata": {
    "collapsed": true
   },
   "outputs": [],
   "source": [
    "from sklearn.metrics import mean_squared_error,mean_absolute_error\n",
    "from lightgbm import LGBMRegressor, early_stopping\n",
    "from sklearn.linear_model import ElasticNet\n",
    "from sklearn.ensemble import RandomForestRegressor, ExtraTreesRegressor, GradientBoostingRegressor\n",
    "import lightgbm\n",
    "import sklearn\n",
    "from multiprocessing import Pool, cpu_count\n",
    "from functools import partial"
   ]
  },
  {
   "cell_type": "code",
   "execution_count": 6,
   "metadata": {
    "collapsed": true
   },
   "outputs": [],
   "source": [
    "# train,test=split_data(pact,7,30)\n",
    "# regr1=LGBMRegressor(n_estimators=58)\n",
    "# regr1.fit(train.drop(\"revenue\",axis=1),train.revenue)\n",
    "# print(r2_score(test.revenue,regr1.predict(test.drop(\"revenue\",axis=1))),\n",
    "#      mean_squared_error(test.revenue,regr1.predict(test.drop(\"revenue\",axis=1))),\n",
    "#      np.sqrt(mean_squared_error(test.revenue,regr1.predict(test.drop(\"revenue\",axis=1)))),\n",
    "#      mean_absolute_error(test.revenue,regr1.predict(test.drop(\"revenue\",axis=1))))\n",
    "# plot_importance(regr1)"
   ]
  },
  {
   "cell_type": "code",
   "execution_count": 7,
   "metadata": {
    "collapsed": true
   },
   "outputs": [],
   "source": [
    "\n",
    "# print(true_sum,regr1.predict(oneday.drop(\"revenue\",axis=1)).sum())"
   ]
  },
  {
   "cell_type": "markdown",
   "metadata": {},
   "source": [
    "В процессе сравнивались следующие модели: LightGBM, RandomForestRegressor, ExtraTreesRegressor, GradientBoostingRegressor, ElasticNetCV (линейная модель с L1- и L2-регуляризацией)"
   ]
  },
  {
   "cell_type": "code",
   "execution_count": 5,
   "metadata": {
    "collapsed": true
   },
   "outputs": [],
   "source": [
    "def fit(regr,X,y):\n",
    "    return regr.fit(X,y)\n",
    "\n",
    "def get_models_scores(pact,days_obs,days_pred):\n",
    "    print(str(days_obs)+\"-\"+str(days_pred))\n",
    "    train,test=split_data(pact,days_obs,days_pred)\n",
    "    regr1=LGBMRegressor(n_estimators=100)\n",
    "    regr2=ElasticNet()\n",
    "    regr3=RandomForestRegressor()\n",
    "    regr4=ExtraTreesRegressor()\n",
    "    regr5=GradientBoostingRegressor(subsample=0.85)\n",
    "    x_train,y_train=train.drop(\"revenue\",axis=1),train.revenue\n",
    "    x_test,y_test=test.drop(\"revenue\",axis=1),test.revenue\n",
    "    regr1.fit(x_train,y_train)\n",
    "    with Pool(processes=cpu_count()) as p:\n",
    "        regr2,regr3,regr4,regr5=p.map(partial(fit,X=x_train,y=y_train),[regr2,regr3,regr4,regr5])\n",
    "    oneday=test[(test.regmonth==5)&(test.regday==1)]\n",
    "    true_sum=oneday.revenue.sum()\n",
    "    mse_results=[mean_squared_error(y_test,regr.predict(x_test)) for regr in [regr1,regr2,regr3,regr4,regr5]]\n",
    "    best=np.argmin(mse_results)\n",
    "    if best==0:\n",
    "        lightgbm.plot_importance(regr1,max_num_features=10)\n",
    "    elif best==2:\n",
    "        sklearn.ensemble.plot_importance(regr2)\n",
    "    elif best==3:\n",
    "        sklearn.ensemble.plot_importance(regr3)\n",
    "    elif best==4:\n",
    "        sklearn.ensemble.plot_importance(regr4)\n",
    "    plt.show()\n",
    "    mae_results=[mean_absolute_error(y_test,regr.predict(x_test)) for regr in [regr1,regr2,regr3,regr4,regr5]]\n",
    "    oneday_results=[regr.predict(oneday.drop(\"revenue\",axis=1)).sum() for regr in [regr1,regr2,regr3,regr4,regr5]]\n",
    "    return [pd.DataFrame(np.sqrt(np.array(mse_results+[np.mean(np.square(test.revenue))])).reshape(1,6),\n",
    "            index=[str(days_obs)+\"-\"+str(days_pred)],columns=[\"LightGBM\",\"ElasticNet\",\"RandomForestRegressor\",\n",
    "            \"ExtraTreesRegressor\",\"GradientBoostingRegressor\",\"RMS of revenues\"]),\n",
    "            pd.DataFrame(np.array(mae_results+[np.mean(test.revenue)]).reshape(1,6),index=[\n",
    "            str(days_obs)+\"-\"+str(days_pred)],columns=[\"LightGBM\",\"ElasticNet\",\"RandomForestRegressor\",\n",
    "            \"ExtraTreesRegressor\",\"GradientBoostingRegressor\",\"Mean of revenues\"]),\n",
    "            pd.DataFrame(np.array(oneday_results+[true_sum]).reshape(1,6),index=[\n",
    "            str(days_obs)+\"-\"+str(days_pred)],columns=[\"LightGBM\",\"ElasticNet\",\"RandomForestRegressor\",\n",
    "            \"ExtraTreesRegressor\",\"GradientBoostingRegressor\",\"True sum\"])\n",
    "           ]\n",
    "\n",
    "def get_week_results(pact,days_obs,days_pred):\n",
    "    print(str(days_obs)+\"-\"+str(days_pred))\n",
    "    train,test=split_data(pact,days_obs,days_pred,testweek=True)\n",
    "    regr1=LGBMRegressor(n_estimators=100)\n",
    "    regr2=ElasticNet()\n",
    "    regr3=RandomForestRegressor()\n",
    "    regr4=ExtraTreesRegressor()\n",
    "    regr5=GradientBoostingRegressor(subsample=0.85)\n",
    "    x_train,y_train=train.drop(\"revenue\",axis=1),train.revenue\n",
    "    regr1.fit(x_train,y_train)\n",
    "    with Pool(processes=cpu_count()) as p:\n",
    "        regr2,regr3,regr4,regr5=p.map(partial(fit,X=x_train,y=y_train),[regr2,regr3,regr4,regr5])\n",
    "    return [pd.DataFrame(np.array([regr.predict(test[day].drop(\"revenue\",axis=1)).sum() for regr in [regr1,regr2,regr3,regr4,\n",
    "            regr5]]+[test[day].revenue.sum()]).reshape(1,6),index=[str(days_obs)+\"-\"+str(days_pred)],columns=[\"LightGBM\",\n",
    "            \"ElasticNet\",\"RandomForestRegressor\",\"ExtraTreesRegressor\",\"GradientBoostingRegressor\",\"True sum\"]\n",
    "                        ) for day in range(7)]"
   ]
  },
  {
   "cell_type": "code",
   "execution_count": null,
   "metadata": {
    "collapsed": true,
    "scrolled": true
   },
   "outputs": [],
   "source": [
    "results_list=[get_models_scores(pact,obs,pred) for obs,pred in product([3,7,15],[15,30,60,100])]"
   ]
  },
  {
   "cell_type": "code",
   "execution_count": null,
   "metadata": {
    "collapsed": true
   },
   "outputs": [],
   "source": [
    "pd.concat([item[0] for item in results_list])"
   ]
  },
  {
   "cell_type": "code",
   "execution_count": null,
   "metadata": {
    "collapsed": true
   },
   "outputs": [],
   "source": [
    "pd.concat([item[1] for item in results_list])"
   ]
  },
  {
   "cell_type": "code",
   "execution_count": null,
   "metadata": {
    "collapsed": true
   },
   "outputs": [],
   "source": [
    "pd.concat([item[2] for item in results_list])"
   ]
  },
  {
   "cell_type": "code",
   "execution_count": null,
   "metadata": {
    "collapsed": true,
    "scrolled": true
   },
   "outputs": [],
   "source": [
    "week_result_list=[get_week_results(pact,obs,pred) for obs,pred in product([3,7,15],[15,30,60,100])]"
   ]
  },
  {
   "cell_type": "code",
   "execution_count": null,
   "metadata": {
    "collapsed": true
   },
   "outputs": [],
   "source": [
    "pd.concat([item[0] for item in week_result_list])"
   ]
  },
  {
   "cell_type": "code",
   "execution_count": null,
   "metadata": {
    "collapsed": true
   },
   "outputs": [],
   "source": [
    "pd.concat([item[1] for item in week_result_list])"
   ]
  },
  {
   "cell_type": "code",
   "execution_count": null,
   "metadata": {
    "collapsed": true
   },
   "outputs": [],
   "source": [
    "pd.concat([item[2] for item in week_result_list])"
   ]
  },
  {
   "cell_type": "code",
   "execution_count": null,
   "metadata": {
    "collapsed": true
   },
   "outputs": [],
   "source": [
    "pd.concat([item[3] for item in week_result_list])"
   ]
  },
  {
   "cell_type": "code",
   "execution_count": null,
   "metadata": {
    "collapsed": true
   },
   "outputs": [],
   "source": [
    "pd.concat([item[4] for item in week_result_list])"
   ]
  },
  {
   "cell_type": "code",
   "execution_count": null,
   "metadata": {
    "collapsed": true
   },
   "outputs": [],
   "source": [
    "pd.concat([item[5] for item in week_result_list])"
   ]
  },
  {
   "cell_type": "code",
   "execution_count": null,
   "metadata": {
    "collapsed": true,
    "scrolled": true
   },
   "outputs": [],
   "source": [
    "pd.concat([item[6] for item in week_result_list])"
   ]
  },
  {
   "cell_type": "code",
   "execution_count": null,
   "metadata": {
    "collapsed": true
   },
   "outputs": [],
   "source": [
    "def eval_model(params={},threshold=1000):\n",
    "    train,test=split_data(pact,3,30,threshold=threshold)\n",
    "    regr=LGBMRegressor(**params,n_estimators=100)\n",
    "    x_train,y_train=train.drop(\"revenue\",axis=1),train.revenue\n",
    "    x_test,y_test=test.drop(\"revenue\",axis=1),test.revenue\n",
    "    regr.fit(x_train,y_train)\n",
    "    return(np.sqrt(mean_squared_error(y_test,regr.predict(x_test))),mean_absolute_error(y_test,regr.predict(x_test)))"
   ]
  },
  {
   "cell_type": "code",
   "execution_count": null,
   "metadata": {
    "collapsed": true,
    "scrolled": true
   },
   "outputs": [],
   "source": [
    "for thresh in range(1000,50000,1000):\n",
    "    print(eval_model(threshold=thresh))"
   ]
  },
  {
   "cell_type": "code",
   "execution_count": null,
   "metadata": {
    "collapsed": true,
    "scrolled": true
   },
   "outputs": [],
   "source": [
    "df=pd.DataFrame(list(map(lambda x: x.strip(\"()\").split(\",\"),l)),index=range(1000,40000,1000),columns=[\"RMSE\",\"MAE\"])"
   ]
  },
  {
   "cell_type": "code",
   "execution_count": 59,
   "metadata": {
    "collapsed": true
   },
   "outputs": [],
   "source": [
    "from hyperopt import Trials, fmin, tpe, space_eval, hp, STATUS_OK\n",
    "params={\n",
    "    'n_estimators' : 10000,\n",
    "    'max_depth':hp.quniform('max_depth',-1,12,1),\n",
    "    'num_leaves':hp.quniform('num_leaves',10,1023,1),\n",
    "    'min_child_weight':hp.uniform('min_child_weight',1e-4,20),\n",
    "    'subsample':hp.uniform('subsample',0.7,1),\n",
    "    'colsample_bytree':hp.uniform('colsample_bytree',0.7,1),\n",
    "    'reg_alpha':hp.uniform('reg_alpha',0,5),\n",
    "    'reg_lambda':hp.uniform('reg_lambda',0,1),\n",
    "    'min_data_in_leaf':hp.quniform('min_data_in_leaf',1,5000,1),\n",
    "    'max_bin_pow':hp.quniform('max_bin_pow',4,10,1),\n",
    "    'learning_rate':0.1,\n",
    "}\n",
    "\n",
    "def func(params):\n",
    "    params['max_depth']=int(params['max_depth'])\n",
    "    params['n_estimators']=int(params['n_estimators'])\n",
    "    params['num_leaves']=int(params['num_leaves'])\n",
    "    params['min_data_in_leaf']=int(params['min_data_in_leaf'])\n",
    "    params['max_bin']=int(2**params['max_bin_pow']-1)\n",
    "    del params['max_bin_pow']\n",
    "    print(params)\n",
    "    regr=LGBMRegressor(**params,seed=123456)\n",
    "    train,test=split_data(pact,3,30)\n",
    "    x_train,y_train=train.drop(\"revenue\",axis=1),train.revenue\n",
    "    x_test,y_test=test.drop(\"revenue\",axis=1),test.revenue\n",
    "    regr.fit(x_train,y_train,eval_set=[(x_test,y_test)],callbacks=[early_stopping(25,verbose=False)],verbose=False)\n",
    "    sc1=np.sqrt(mean_squared_error(y_test,regr.predict(x_test)))\n",
    "    print(\"3-30:\",sc1)\n",
    "    regr=LGBMRegressor(**params,seed=123456)\n",
    "    train,test=split_data(pact,7,60)\n",
    "    x_train,y_train=train.drop(\"revenue\",axis=1),train.revenue\n",
    "    x_test,y_test=test.drop(\"revenue\",axis=1),test.revenue\n",
    "    regr.fit(x_train,y_train,eval_set=[(x_test,y_test)],callbacks=[early_stopping(25,verbose=False)],verbose=False)\n",
    "    sc2=np.sqrt(mean_squared_error(y_test,regr.predict(x_test)))\n",
    "    print(\"7-60:\",sc2)\n",
    "    regr=LGBMRegressor(**params,seed=123456)\n",
    "    train,test=split_data(pact,7,100)\n",
    "    x_train,y_train=train.drop(\"revenue\",axis=1),train.revenue\n",
    "    x_test,y_test=test.drop(\"revenue\",axis=1),test.revenue\n",
    "    regr.fit(x_train,y_train,eval_set=[(x_test,y_test)],callbacks=[early_stopping(25,verbose=False)],verbose=False)\n",
    "    sc3=np.sqrt(mean_squared_error(y_test,regr.predict(x_test)))\n",
    "    print(\"7-100:\",sc3)\n",
    "    regr=LGBMRegressor(**params,seed=123456)\n",
    "    train,test=split_data(pact,15,100)\n",
    "    x_train,y_train=train.drop(\"revenue\",axis=1),train.revenue\n",
    "    x_test,y_test=test.drop(\"revenue\",axis=1),test.revenue\n",
    "    regr.fit(x_train,y_train,eval_set=[(x_test,y_test)],callbacks=[early_stopping(25,verbose=False)],verbose=False)\n",
    "    sc4=np.sqrt(mean_squared_error(y_test,regr.predict(x_test)))\n",
    "    print(\"15-100:\",sc4)\n",
    "    gc.collect()\n",
    "#     return {'loss':sc3,'status':STATUS_OK}\n",
    "    return {'loss':np.mean([sc1,sc2,sc3,sc4]),'status':STATUS_OK}"
   ]
  },
  {
   "cell_type": "code",
   "execution_count": 11,
   "metadata": {},
   "outputs": [
    {
     "name": "stdout",
     "output_type": "stream",
     "text": [
      "{'n_estimators': 100, 'max_depth': -1, 'num_leaves': 31}\n",
      "3-30: 82.7927021512\n",
      "7-60: 62.2045558415\n",
      "7-100: 62.4055120637\n",
      "15-100: 40.5791995584\n"
     ]
    },
    {
     "data": {
      "text/plain": [
       "{'loss': 61.995492403689852, 'status': 'ok'}"
      ]
     },
     "execution_count": 11,
     "metadata": {},
     "output_type": "execute_result"
    }
   ],
   "source": [
    "func({'n_estimators':100,'max_depth':-1,'num_leaves':31})"
   ]
  },
  {
   "cell_type": "code",
   "execution_count": 14,
   "metadata": {},
   "outputs": [
    {
     "name": "stdout",
     "output_type": "stream",
     "text": [
      "{'n_estimators': 500, 'learning_rate': 0.01, 'max_depth': -1, 'num_leaves': 20}\n",
      "3-30: 82.8143388377\n",
      "7-60: 62.1212960307\n",
      "7-100: 62.3287794874\n",
      "15-100: 40.4805326112\n"
     ]
    },
    {
     "data": {
      "text/plain": [
       "{'loss': 61.936236741746882, 'status': 'ok'}"
      ]
     },
     "execution_count": 14,
     "metadata": {},
     "output_type": "execute_result"
    }
   ],
   "source": [
    "func({'n_estimators':500,'max_depth':-1,'num_leaves':20,'learning_rate':0.01})"
   ]
  },
  {
   "cell_type": "code",
   "execution_count": 61,
   "metadata": {
    "collapsed": true
   },
   "outputs": [],
   "source": [
    "trials=Trials()"
   ]
  },
  {
   "cell_type": "code",
   "execution_count": null,
   "metadata": {
    "scrolled": true
   },
   "outputs": [
    {
     "name": "stdout",
     "output_type": "stream",
     "text": [
      "{'reg_lambda': 0.049357534269926284, 'max_bin': 63, 'colsample_bytree': 0.7123917503834754, 'reg_alpha': 4.988415177157608, 'min_data_in_leaf': 2727, 'learning_rate': 0.1, 'subsample': 0.9387563654107016, 'min_child_weight': 2.5214094116051444, 'n_estimators': 10000, 'max_depth': 9, 'num_leaves': 629}\n",
      "3-30: 83.0034560233\n",
      "7-60: 76.6454796791\n",
      "7-100: 76.7249098122\n",
      "15-100: 75.1792079619\n",
      "{'reg_lambda': 0.07906626849883269, 'max_bin': 511, 'colsample_bytree': 0.8843148047636806, 'reg_alpha': 2.6229240183163616, 'min_data_in_leaf': 492, 'learning_rate': 0.1, 'subsample': 0.8833994448471818, 'min_child_weight': 19.78333222600199, 'n_estimators': 10000, 'max_depth': 3, 'num_leaves': 328}\n",
      "3-30: 82.8293638735\n",
      "7-60: 65.2160727862\n",
      "7-100: 65.6283722888\n",
      "15-100: 54.0290011554\n",
      "{'reg_lambda': 0.6332525828227766, 'max_bin': 31, 'colsample_bytree': 0.9440981429929072, 'reg_alpha': 0.23031252602132402, 'min_data_in_leaf': 17, 'learning_rate': 0.1, 'subsample': 0.7906661477290673, 'min_child_weight': 7.834707348793282, 'n_estimators': 10000, 'max_depth': 2, 'num_leaves': 501}\n",
      "3-30: 83.6984834846\n",
      "7-60: 67.7496001377\n",
      "7-100: 68.2389142822\n",
      "15-100: 57.8516994793\n",
      "{'reg_lambda': 0.20099173938432546, 'max_bin': 31, 'colsample_bytree': 0.9751338027354541, 'reg_alpha': 4.054690010217749, 'min_data_in_leaf': 3001, 'learning_rate': 0.1, 'subsample': 0.7223831903290547, 'min_child_weight': 7.318314536270916, 'n_estimators': 10000, 'max_depth': 4, 'num_leaves': 804}\n",
      "3-30: 84.0355337626\n",
      "7-60: 83.3169017491\n",
      "7-100: 83.4185839675\n",
      "15-100: 82.319241525\n",
      "{'reg_lambda': 0.4583242458943605, 'max_bin': 127, 'colsample_bytree': 0.8946783326934846, 'reg_alpha': 2.281908500710582, 'min_data_in_leaf': 3642, 'learning_rate': 0.1, 'subsample': 0.7298711113219898, 'min_child_weight': 2.354864625476195, 'n_estimators': 10000, 'max_depth': 4, 'num_leaves': 813}\n",
      "3-30: 93.5729375733\n",
      "7-60: 92.5251280304\n",
      "7-100: 92.7582351888\n",
      "15-100: 91.6647224239\n",
      "{'reg_lambda': 0.3532668949599118, 'max_bin': 31, 'colsample_bytree': 0.9167088577999569, 'reg_alpha': 3.901554515572464, 'min_data_in_leaf': 2097, 'learning_rate': 0.1, 'subsample': 0.7286119036908095, 'min_child_weight': 12.550726290519878, 'n_estimators': 10000, 'max_depth': 0, 'num_leaves': 23}\n",
      "3-30: 82.9461878074\n",
      "7-60: 76.749842177\n",
      "7-100: 76.918356094\n",
      "15-100: 75.2682034626\n",
      "{'reg_lambda': 0.163719257952601, 'max_bin': 1023, 'colsample_bytree': 0.8885630908263009, 'reg_alpha': 1.375548252629602, 'min_data_in_leaf': 1281, 'learning_rate': 0.1, 'subsample': 0.719327449827645, 'min_child_weight': 13.94781333408898, 'n_estimators': 10000, 'max_depth': 9, 'num_leaves': 917}\n",
      "3-30: 82.7574664385\n",
      "7-60: 64.4364368127\n",
      "7-100: 64.6308706256\n",
      "15-100: 61.4301992676\n",
      "{'reg_lambda': 0.08395914852012765, 'max_bin': 15, 'colsample_bytree': 0.872314370393492, 'reg_alpha': 4.0242437584073025, 'min_data_in_leaf': 4258, 'learning_rate': 0.1, 'subsample': 0.9809174291623234, 'min_child_weight': 9.968063690778067, 'n_estimators': 10000, 'max_depth': 3, 'num_leaves': 194}\n",
      "3-30: 84.0438830617\n",
      "7-60: 83.4363437315\n",
      "7-100: 83.4595032017\n",
      "15-100: 82.1493625139\n",
      "{'reg_lambda': 0.9796527852076499, 'max_bin': 31, 'colsample_bytree': 0.790211616754273, 'reg_alpha': 2.495968222462357, 'min_data_in_leaf': 807, 'learning_rate': 0.1, 'subsample': 0.8008982403837555, 'min_child_weight': 18.902743552492648, 'n_estimators': 10000, 'max_depth': 9, 'num_leaves': 923}\n",
      "3-30: 82.8119087804\n",
      "7-60: 62.7616028698\n",
      "7-100: 62.9557550116\n",
      "15-100: 48.4268781581\n",
      "{'reg_lambda': 0.3332368407658026, 'max_bin': 63, 'colsample_bytree': 0.8173196145242481, 'reg_alpha': 3.9444509516492894, 'min_data_in_leaf': 3348, 'learning_rate': 0.1, 'subsample': 0.7962429138960108, 'min_child_weight': 5.1404723293360535, 'n_estimators': 10000, 'max_depth': 10, 'num_leaves': 89}\n",
      "3-30: 84.1835268044\n",
      "7-60: 83.2222726621\n",
      "7-100: 83.3024231688\n",
      "15-100: 81.6536693845\n",
      "{'reg_lambda': 0.4761973398081608, 'max_bin': 255, 'colsample_bytree': 0.8978176856611033, 'reg_alpha': 4.317299637831734, 'min_data_in_leaf': 2033, 'learning_rate': 0.1, 'subsample': 0.7018074712440171, 'min_child_weight': 7.363682689488961, 'n_estimators': 10000, 'max_depth': 11, 'num_leaves': 495}\n",
      "3-30: 82.9557546749\n",
      "7-60: 76.8579742595\n",
      "7-100: 77.0514052872\n",
      "15-100: 75.3854768249\n",
      "{'reg_lambda': 0.656656784137037, 'max_bin': 255, 'colsample_bytree': 0.9459873402115606, 'reg_alpha': 1.0031113763964261, 'min_data_in_leaf': 3063, 'learning_rate': 0.1, 'subsample': 0.8173879868264167, 'min_child_weight': 12.827546616911274, 'n_estimators': 10000, 'max_depth': 2, 'num_leaves': 566}\n",
      "3-30: 83.785102154\n",
      "7-60: 79.6867888345\n",
      "7-100: 79.8201992063\n",
      "15-100: 78.3613803852\n",
      "{'reg_lambda': 0.9742076670686498, 'max_bin': 511, 'colsample_bytree': 0.8054368137169337, 'reg_alpha': 3.6135342550758667, 'min_data_in_leaf': 4078, 'learning_rate': 0.1, 'subsample': 0.9869801581748789, 'min_child_weight': 9.389867631136525, 'n_estimators': 10000, 'max_depth': 4, 'num_leaves': 641}\n",
      "3-30: 83.9051847617\n",
      "7-60: 82.9689094888\n",
      "7-100: 83.1727054138\n",
      "15-100: 81.7463401063\n",
      "{'reg_lambda': 0.18156973627367246, 'max_bin': 31, 'colsample_bytree': 0.9310017837339302, 'reg_alpha': 3.888768075503145, 'min_data_in_leaf': 3556, 'learning_rate': 0.1, 'subsample': 0.7982498633908769, 'min_child_weight': 5.6984103451313715, 'n_estimators': 10000, 'max_depth': 9, 'num_leaves': 268}\n",
      "3-30: 84.2237111815\n",
      "7-60: 83.2625187519\n",
      "7-100: 83.3569451805\n",
      "15-100: 81.899323518\n",
      "{'reg_lambda': 0.972930024353475, 'max_bin': 127, 'colsample_bytree': 0.9892500066634041, 'reg_alpha': 3.295879456332713, 'min_data_in_leaf': 4837, 'learning_rate': 0.1, 'subsample': 0.9043095984854874, 'min_child_weight': 0.7893438773249098, 'n_estimators': 10000, 'max_depth': 1, 'num_leaves': 787}\n"
     ]
    }
   ],
   "source": [
    "best=fmin(func,params,algo=tpe.suggest,trials=trials,max_evals=200)"
   ]
  },
  {
   "cell_type": "code",
   "execution_count": 63,
   "metadata": {
    "collapsed": true
   },
   "outputs": [],
   "source": [
    "best=space_eval(params,{key:value[0] for key,value in trials.best_trial['misc']['vals'].items() if len(value)>0})"
   ]
  },
  {
   "cell_type": "code",
   "execution_count": 65,
   "metadata": {},
   "outputs": [
    {
     "name": "stdout",
     "output_type": "stream",
     "text": [
      "{'reg_lambda': 0.3044910889111851, 'max_bin': 63, 'colsample_bytree': 0.7544918024653926, 'reg_alpha': 2.656044279362783, 'min_data_in_leaf': 24, 'learning_rate': 0.1, 'subsample': 0.9105773816276077, 'min_child_weight': 15.276244888375265, 'n_estimators': 10000, 'max_depth': 12, 'num_leaves': 328}\n",
      "3-30: 82.8647166718\n",
      "7-60: 62.1020812518\n",
      "7-100: 62.3354566387\n",
      "15-100: 41.0607493393\n"
     ]
    },
    {
     "data": {
      "text/plain": [
       "{'loss': 62.09075097538927, 'status': 'ok'}"
      ]
     },
     "execution_count": 65,
     "metadata": {},
     "output_type": "execute_result"
    }
   ],
   "source": [
    "func(best)"
   ]
  },
  {
   "cell_type": "code",
   "execution_count": 64,
   "metadata": {},
   "outputs": [
    {
     "data": {
      "text/plain": [
       "{'colsample_bytree': 0.7544918024653926,\n",
       " 'learning_rate': 0.1,\n",
       " 'max_bin_pow': 6.0,\n",
       " 'max_depth': 12.0,\n",
       " 'min_child_weight': 15.276244888375265,\n",
       " 'min_data_in_leaf': 24.0,\n",
       " 'n_estimators': 10000,\n",
       " 'num_leaves': 328.0,\n",
       " 'reg_alpha': 2.656044279362783,\n",
       " 'reg_lambda': 0.3044910889111851,\n",
       " 'subsample': 0.9105773816276077}"
      ]
     },
     "execution_count": 64,
     "metadata": {},
     "output_type": "execute_result"
    }
   ],
   "source": [
    "best"
   ]
  },
  {
   "cell_type": "code",
   "execution_count": 43,
   "metadata": {
    "collapsed": true
   },
   "outputs": [],
   "source": [
    "days_pred=60\n",
    "days_obs=7\n",
    "threshold=1000\n",
    "y=pact[(pact.actdate-pact.regdate)<=timedelta(days=days_pred-1)].groupby(\"id\").revenue.sum().to_frame()\n",
    "y.loc[y.revenue>threshold,\"revenue\"]=threshold\n",
    "pact_train=pact[(pact.actdate-pact.regdate)<=timedelta(days=days_obs-1)].copy()\n",
    "pact_train.loc[pact_train.revenue>threshold,\"revenue\"]=threshold\n",
    "pact_train[\"day\"]=((pact_train[\"actdate\"]-pact_train[\"regdate\"])/np.timedelta64(1, 'D')).astype(\"int8\")\n",
    "pact_train=pact_train.set_index([\"id\",\"day\"]).reindex(pd.MultiIndex.from_product([pact_train[\"id\"].unique(), range(days_obs)], names=[\"id\", \"day\"]))\n",
    "pact_train.regdate.fillna(method=\"ffill\",inplace=True)\n",
    "pact_train.country.fillna(method=\"ffill\",inplace=True)\n",
    "pact_train.actdate=pd.to_timedelta(pact_train.index.get_level_values(level=1),\"d\")+pact_train.regdate\n",
    "pact_train.fillna(0,inplace=True)\n",
    "pact_train[\"regmonth\"]=pact_train.regdate.dt.month\n",
    "pact_train[\"regday\"]=pact_train.regdate.dt.day\n",
    "pact_train[\"actmonth\"]=pact_train.actdate.dt.month\n",
    "pact_train[\"actday\"]=pact_train.actdate.dt.day\n",
    "pact_train=pact_train.drop([\"regdate\",\"actdate\"],axis=1).unstack().drop(\n",
    "    [col for col in product([\"regmonth\",\"regday\",\"country\"],range(1,days_obs))],axis=1)\n",
    "pact_train[[(\"country\",0)]+[col for col in product([\"transactions\",\"actmonth\",\"actday\"],range(days_obs))]]=pact_train[[\n",
    "(\"country\",0)]+[col for col in product([\"transactions\",\"actmonth\",\"actday\"],range(days_obs))]].astype(\"uint8\")\n",
    "pact_train[[col for col in product([\"clusters_ml_ended\"],range(days_obs))]]=pact_train[\n",
    "    [col for col in product([\"clusters_ml_ended\"],range(days_obs))]].astype(\"int8\")\n",
    "pact_train[[col for col in product([\"revenue\"],range(days_obs))]]=pact_train[\n",
    "    [col for col in product([\"revenue\"],range(days_obs))]].astype(\"float32\")\n",
    "pact_train[[col for col in product([\"number_of_pgr\",\"quests_end\",\"m_quests_end\"],range(days_obs))]]=pact_train[[\n",
    "    col for col in product([\"number_of_pgr\",\"quests_end\",\"m_quests_end\"],range(days_obs))]].astype(\"int16\")\n",
    "pact_train.columns=[\"\".join(map(str,col)) for col in pact_train.columns]\n",
    "\n",
    "pact_train.rename(columns={\"regmonth0\":\"regmonth\",\"regday0\":\"regday\",\"country0\":\"country\"},inplace=True)\n",
    "pact_train.index.name=None"
   ]
  },
  {
   "cell_type": "code",
   "execution_count": 44,
   "metadata": {
    "collapsed": true
   },
   "outputs": [],
   "source": [
    "cleaned=pd.merge(pact_train,y,left_index=True,right_index=True)\n",
    "train=cleaned[(cleaned.regmonth<3)|((cleaned.regmonth==3)&(cleaned.regday<17))]\n",
    "test=cleaned[~((cleaned.regmonth<3)|((cleaned.regmonth==3)&(cleaned.regday<17)))]"
   ]
  },
  {
   "cell_type": "code",
   "execution_count": 45,
   "metadata": {},
   "outputs": [
    {
     "data": {
      "text/plain": [
       "3864.3174660969516"
      ]
     },
     "execution_count": 45,
     "metadata": {},
     "output_type": "execute_result"
    }
   ],
   "source": [
    "regr=LGBMRegressor(n_estimators=100,seed=123)\n",
    "regr.fit(train.drop(\"revenue\",axis=1),train.revenue)\n",
    "mean_squared_error(test.revenue,regr.predict(test.drop(\"revenue\",axis=1)))"
   ]
  },
  {
   "cell_type": "code",
   "execution_count": 49,
   "metadata": {
    "collapsed": true,
    "scrolled": true
   },
   "outputs": [],
   "source": [
    "pact_train[\"rev_min\"]=np.min(pact_train[[\"revenue\"+str(i) for i in range(days_obs)]],axis=1)\n",
    "pact_train[\"rev_max\"]=np.max(pact_train[[\"revenue\"+str(i) for i in range(days_obs)]],axis=1)\n",
    "pact_train[\"rev_mean\"]=np.mean(pact_train[[\"revenue\"+str(i) for i in range(days_obs)]],axis=1)\n",
    "pact_train[\"rev_median\"]=np.median(pact_train[[\"revenue\"+str(i) for i in range(days_obs)]],axis=1)\n",
    "pact_train[\"rev_std\"]=np.std(pact_train[[\"revenue\"+str(i) for i in range(days_obs)]],axis=1)\n",
    "pact_train[\"rev_nonzero\"]=np.count_nonzero(pact_train[[\"revenue\"+str(i) for i in range(days_obs)]],axis=1)\n",
    "pact_train[\"frac_zero\"]=1-pact_train[\"rev_nonzero\"]/days_obs"
   ]
  },
  {
   "cell_type": "code",
   "execution_count": 50,
   "metadata": {},
   "outputs": [
    {
     "data": {
      "text/plain": [
       "<matplotlib.axes._subplots.AxesSubplot at 0x7fbb6a310320>"
      ]
     },
     "execution_count": 50,
     "metadata": {},
     "output_type": "execute_result"
    },
    {
     "data": {
      "image/png": "[encoded data removed]",
      "text/plain": [
       "<matplotlib.figure.Figure at 0x7fbb6a2ccb70>"
      ]
     },
     "metadata": {
      "image/png": {
       "height": 666,
       "width": 843
      }
     },
     "output_type": "display_data"
    }
   ],
   "source": [
    "sns.heatmap(pact_train.corr())"
   ]
  },
  {
   "cell_type": "code",
   "execution_count": 51,
   "metadata": {
    "collapsed": true
   },
   "outputs": [],
   "source": [
    "cleaned=pd.merge(pact_train,y,left_index=True,right_index=True)\n",
    "train=cleaned[(cleaned.regmonth<3)|((cleaned.regmonth==3)&(cleaned.regday<17))]\n",
    "test=cleaned[~((cleaned.regmonth<3)|((cleaned.regmonth==3)&(cleaned.regday<17)))]"
   ]
  },
  {
   "cell_type": "markdown",
   "metadata": {},
   "source": [
    "Ошибка до отбора признаков:"
   ]
  },
  {
   "cell_type": "code",
   "execution_count": 52,
   "metadata": {},
   "outputs": [
    {
     "data": {
      "text/plain": [
       "3860.0216706707561"
      ]
     },
     "execution_count": 52,
     "metadata": {},
     "output_type": "execute_result"
    }
   ],
   "source": [
    "regr=LGBMRegressor(n_estimators=100,seed=123)\n",
    "regr.fit(train.drop(\"revenue\",axis=1),train.revenue)\n",
    "mean_squared_error(test.revenue,regr.predict(test.drop(\"revenue\",axis=1)))"
   ]
  },
  {
   "cell_type": "code",
   "execution_count": 54,
   "metadata": {
    "collapsed": true
   },
   "outputs": [],
   "source": [
    "from mlxtend.feature_selection import SequentialFeatureSelector\n",
    "sfs=SequentialFeatureSelector(regr,k_features=(50,66),forward=False,floating=True,scoring=\"neg_mean_squared_error\",\n",
    "                              verbose=2)"
   ]
  },
  {
   "cell_type": "code",
   "execution_count": null,
   "metadata": {
    "scrolled": true
   },
   "outputs": [
    {
     "name": "stderr",
     "output_type": "stream",
     "text": [
      "[Parallel(n_jobs=1)]: Done   1 out of   1 | elapsed:   33.0s remaining:    0.0s\n",
      "[Parallel(n_jobs=1)]: Done  66 out of  66 | elapsed: 36.3min finished\n",
      "\n",
      "[2017-07-25 21:26:35] Features: 65/50 -- score: -2700.30994268[Parallel(n_jobs=1)]: Done   1 out of   1 | elapsed:   32.1s remaining:    0.0s\n"
     ]
    }
   ],
   "source": [
    "sfs.fit(train.drop(\"revenue\",axis=1).values,train.revenue.values)"
   ]
  },
  {
   "cell_type": "markdown",
   "metadata": {},
   "source": [
    "Ошибка после отбора признаков:"
   ]
  },
  {
   "cell_type": "code",
   "execution_count": 62,
   "metadata": {},
   "outputs": [
    {
     "data": {
      "text/plain": [
       "3860.2785832836917"
      ]
     },
     "execution_count": 62,
     "metadata": {},
     "output_type": "execute_result"
    }
   ],
   "source": [
    "regr=LGBMRegressor(n_estimators=100,seed=123)\n",
    "regr.fit(sfs.transform(train.drop(\"revenue\",axis=1).values),train.revenue)\n",
    "mean_squared_error(test.revenue,regr.predict(sfs.transform(test.drop(\"revenue\",axis=1).values)))"
   ]
  },
  {
   "cell_type": "code",
   "execution_count": null,
   "metadata": {
    "collapsed": true
   },
   "outputs": [],
   "source": []
  }
 ],
 "metadata": {
  "kernelspec": {
   "display_name": "Python 3",
   "language": "python",
   "name": "python3"
  },
  "language_info": {
   "codemirror_mode": {
    "name": "ipython",
    "version": 3
   },
   "file_extension": ".py",
   "mimetype": "text/x-python",
   "name": "python",
   "nbconvert_exporter": "python",
   "pygments_lexer": "ipython3",
   "version": "3.5.2+"
  },
  "notify_time": "30"
 },
 "nbformat": 4,
 "nbformat_minor": 2
}
